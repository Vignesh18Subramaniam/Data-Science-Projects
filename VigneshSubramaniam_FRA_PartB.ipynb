{
 "cells": [
  {
   "cell_type": "markdown",
   "id": "12a4d86f",
   "metadata": {},
   "source": [
    "PARTB - The dataset contains 6 years of information(weekly stock information) on the stock prices of 10 different Indian Stocks. Calculate the mean and standard deviation on the stock returns and share insights. You are expected to do the Market Risk Analysis using Python."
   ]
  },
  {
   "cell_type": "code",
   "execution_count": 57,
   "id": "6e6257dd",
   "metadata": {},
   "outputs": [],
   "source": [
    "import numpy as np\n",
    "import matplotlib.pyplot as plt\n",
    "import pandas as pd\n",
    "import seaborn as sns \n",
    "color = sns.color_palette()\n",
    "import sklearn.metrics as metrics\n",
    "from scipy.stats import norm \n",
    "\n",
    "import warnings\n",
    "warnings.filterwarnings(\"ignore\")"
   ]
  },
  {
   "cell_type": "code",
   "execution_count": 58,
   "id": "7be86109",
   "metadata": {},
   "outputs": [],
   "source": [
    "MRD = pd.read_csv(\"/Users/happyfamily/Downloads/download-32.csv\")"
   ]
  },
  {
   "cell_type": "code",
   "execution_count": 59,
   "id": "f031051c",
   "metadata": {},
   "outputs": [
    {
     "data": {
      "text/html": [
       "<div>\n",
       "<style scoped>\n",
       "    .dataframe tbody tr th:only-of-type {\n",
       "        vertical-align: middle;\n",
       "    }\n",
       "\n",
       "    .dataframe tbody tr th {\n",
       "        vertical-align: top;\n",
       "    }\n",
       "\n",
       "    .dataframe thead th {\n",
       "        text-align: right;\n",
       "    }\n",
       "</style>\n",
       "<table border=\"1\" class=\"dataframe\">\n",
       "  <thead>\n",
       "    <tr style=\"text-align: right;\">\n",
       "      <th></th>\n",
       "      <th>Date</th>\n",
       "      <th>Infosys</th>\n",
       "      <th>Indian Hotel</th>\n",
       "      <th>Mahindra &amp; Mahindra</th>\n",
       "      <th>Axis Bank</th>\n",
       "      <th>SAIL</th>\n",
       "      <th>Shree Cement</th>\n",
       "      <th>Sun Pharma</th>\n",
       "      <th>Jindal Steel</th>\n",
       "      <th>Idea Vodafone</th>\n",
       "      <th>Jet Airways</th>\n",
       "    </tr>\n",
       "  </thead>\n",
       "  <tbody>\n",
       "    <tr>\n",
       "      <th>0</th>\n",
       "      <td>31-03-2014</td>\n",
       "      <td>264</td>\n",
       "      <td>69</td>\n",
       "      <td>455</td>\n",
       "      <td>263</td>\n",
       "      <td>68</td>\n",
       "      <td>5543</td>\n",
       "      <td>555</td>\n",
       "      <td>298</td>\n",
       "      <td>83</td>\n",
       "      <td>278</td>\n",
       "    </tr>\n",
       "    <tr>\n",
       "      <th>1</th>\n",
       "      <td>07-04-2014</td>\n",
       "      <td>257</td>\n",
       "      <td>68</td>\n",
       "      <td>458</td>\n",
       "      <td>276</td>\n",
       "      <td>70</td>\n",
       "      <td>5728</td>\n",
       "      <td>610</td>\n",
       "      <td>279</td>\n",
       "      <td>84</td>\n",
       "      <td>303</td>\n",
       "    </tr>\n",
       "    <tr>\n",
       "      <th>2</th>\n",
       "      <td>14-04-2014</td>\n",
       "      <td>254</td>\n",
       "      <td>68</td>\n",
       "      <td>454</td>\n",
       "      <td>270</td>\n",
       "      <td>68</td>\n",
       "      <td>5649</td>\n",
       "      <td>607</td>\n",
       "      <td>279</td>\n",
       "      <td>83</td>\n",
       "      <td>280</td>\n",
       "    </tr>\n",
       "    <tr>\n",
       "      <th>3</th>\n",
       "      <td>21-04-2014</td>\n",
       "      <td>253</td>\n",
       "      <td>68</td>\n",
       "      <td>488</td>\n",
       "      <td>283</td>\n",
       "      <td>68</td>\n",
       "      <td>5692</td>\n",
       "      <td>604</td>\n",
       "      <td>274</td>\n",
       "      <td>83</td>\n",
       "      <td>282</td>\n",
       "    </tr>\n",
       "    <tr>\n",
       "      <th>4</th>\n",
       "      <td>28-04-2014</td>\n",
       "      <td>256</td>\n",
       "      <td>65</td>\n",
       "      <td>482</td>\n",
       "      <td>282</td>\n",
       "      <td>63</td>\n",
       "      <td>5582</td>\n",
       "      <td>611</td>\n",
       "      <td>238</td>\n",
       "      <td>79</td>\n",
       "      <td>243</td>\n",
       "    </tr>\n",
       "  </tbody>\n",
       "</table>\n",
       "</div>"
      ],
      "text/plain": [
       "         Date  Infosys  Indian Hotel  Mahindra & Mahindra  Axis Bank  SAIL  \\\n",
       "0  31-03-2014      264            69                  455        263    68   \n",
       "1  07-04-2014      257            68                  458        276    70   \n",
       "2  14-04-2014      254            68                  454        270    68   \n",
       "3  21-04-2014      253            68                  488        283    68   \n",
       "4  28-04-2014      256            65                  482        282    63   \n",
       "\n",
       "   Shree Cement  Sun Pharma  Jindal Steel  Idea Vodafone  Jet Airways  \n",
       "0          5543         555           298             83          278  \n",
       "1          5728         610           279             84          303  \n",
       "2          5649         607           279             83          280  \n",
       "3          5692         604           274             83          282  \n",
       "4          5582         611           238             79          243  "
      ]
     },
     "execution_count": 59,
     "metadata": {},
     "output_type": "execute_result"
    }
   ],
   "source": [
    "MRD.head()"
   ]
  },
  {
   "cell_type": "code",
   "execution_count": 60,
   "id": "9f207098",
   "metadata": {},
   "outputs": [],
   "source": [
    "#Fixing the messy columns\n",
    "MRD.columns = MRD.columns.str.replace(' ','')"
   ]
  },
  {
   "cell_type": "code",
   "execution_count": 61,
   "id": "8eff7bc3",
   "metadata": {},
   "outputs": [
    {
     "data": {
      "text/html": [
       "<div>\n",
       "<style scoped>\n",
       "    .dataframe tbody tr th:only-of-type {\n",
       "        vertical-align: middle;\n",
       "    }\n",
       "\n",
       "    .dataframe tbody tr th {\n",
       "        vertical-align: top;\n",
       "    }\n",
       "\n",
       "    .dataframe thead th {\n",
       "        text-align: right;\n",
       "    }\n",
       "</style>\n",
       "<table border=\"1\" class=\"dataframe\">\n",
       "  <thead>\n",
       "    <tr style=\"text-align: right;\">\n",
       "      <th></th>\n",
       "      <th>Date</th>\n",
       "      <th>Infosys</th>\n",
       "      <th>IndianHotel</th>\n",
       "      <th>Mahindra&amp;Mahindra</th>\n",
       "      <th>AxisBank</th>\n",
       "      <th>SAIL</th>\n",
       "      <th>ShreeCement</th>\n",
       "      <th>SunPharma</th>\n",
       "      <th>JindalSteel</th>\n",
       "      <th>IdeaVodafone</th>\n",
       "      <th>JetAirways</th>\n",
       "    </tr>\n",
       "  </thead>\n",
       "  <tbody>\n",
       "    <tr>\n",
       "      <th>0</th>\n",
       "      <td>31-03-2014</td>\n",
       "      <td>264</td>\n",
       "      <td>69</td>\n",
       "      <td>455</td>\n",
       "      <td>263</td>\n",
       "      <td>68</td>\n",
       "      <td>5543</td>\n",
       "      <td>555</td>\n",
       "      <td>298</td>\n",
       "      <td>83</td>\n",
       "      <td>278</td>\n",
       "    </tr>\n",
       "    <tr>\n",
       "      <th>1</th>\n",
       "      <td>07-04-2014</td>\n",
       "      <td>257</td>\n",
       "      <td>68</td>\n",
       "      <td>458</td>\n",
       "      <td>276</td>\n",
       "      <td>70</td>\n",
       "      <td>5728</td>\n",
       "      <td>610</td>\n",
       "      <td>279</td>\n",
       "      <td>84</td>\n",
       "      <td>303</td>\n",
       "    </tr>\n",
       "    <tr>\n",
       "      <th>2</th>\n",
       "      <td>14-04-2014</td>\n",
       "      <td>254</td>\n",
       "      <td>68</td>\n",
       "      <td>454</td>\n",
       "      <td>270</td>\n",
       "      <td>68</td>\n",
       "      <td>5649</td>\n",
       "      <td>607</td>\n",
       "      <td>279</td>\n",
       "      <td>83</td>\n",
       "      <td>280</td>\n",
       "    </tr>\n",
       "    <tr>\n",
       "      <th>3</th>\n",
       "      <td>21-04-2014</td>\n",
       "      <td>253</td>\n",
       "      <td>68</td>\n",
       "      <td>488</td>\n",
       "      <td>283</td>\n",
       "      <td>68</td>\n",
       "      <td>5692</td>\n",
       "      <td>604</td>\n",
       "      <td>274</td>\n",
       "      <td>83</td>\n",
       "      <td>282</td>\n",
       "    </tr>\n",
       "    <tr>\n",
       "      <th>4</th>\n",
       "      <td>28-04-2014</td>\n",
       "      <td>256</td>\n",
       "      <td>65</td>\n",
       "      <td>482</td>\n",
       "      <td>282</td>\n",
       "      <td>63</td>\n",
       "      <td>5582</td>\n",
       "      <td>611</td>\n",
       "      <td>238</td>\n",
       "      <td>79</td>\n",
       "      <td>243</td>\n",
       "    </tr>\n",
       "  </tbody>\n",
       "</table>\n",
       "</div>"
      ],
      "text/plain": [
       "         Date  Infosys  IndianHotel  Mahindra&Mahindra  AxisBank  SAIL  \\\n",
       "0  31-03-2014      264           69                455       263    68   \n",
       "1  07-04-2014      257           68                458       276    70   \n",
       "2  14-04-2014      254           68                454       270    68   \n",
       "3  21-04-2014      253           68                488       283    68   \n",
       "4  28-04-2014      256           65                482       282    63   \n",
       "\n",
       "   ShreeCement  SunPharma  JindalSteel  IdeaVodafone  JetAirways  \n",
       "0         5543        555          298            83         278  \n",
       "1         5728        610          279            84         303  \n",
       "2         5649        607          279            83         280  \n",
       "3         5692        604          274            83         282  \n",
       "4         5582        611          238            79         243  "
      ]
     },
     "execution_count": 61,
     "metadata": {},
     "output_type": "execute_result"
    }
   ],
   "source": [
    "MRD.head()"
   ]
  },
  {
   "cell_type": "code",
   "execution_count": 62,
   "id": "5d45e9cf",
   "metadata": {
    "scrolled": true
   },
   "outputs": [
    {
     "data": {
      "text/html": [
       "<div>\n",
       "<style scoped>\n",
       "    .dataframe tbody tr th:only-of-type {\n",
       "        vertical-align: middle;\n",
       "    }\n",
       "\n",
       "    .dataframe tbody tr th {\n",
       "        vertical-align: top;\n",
       "    }\n",
       "\n",
       "    .dataframe thead th {\n",
       "        text-align: right;\n",
       "    }\n",
       "</style>\n",
       "<table border=\"1\" class=\"dataframe\">\n",
       "  <thead>\n",
       "    <tr style=\"text-align: right;\">\n",
       "      <th></th>\n",
       "      <th>Date</th>\n",
       "      <th>Infosys</th>\n",
       "      <th>IndianHotel</th>\n",
       "      <th>Mahindra&amp;Mahindra</th>\n",
       "      <th>AxisBank</th>\n",
       "      <th>SAIL</th>\n",
       "      <th>ShreeCement</th>\n",
       "      <th>SunPharma</th>\n",
       "      <th>JindalSteel</th>\n",
       "      <th>IdeaVodafone</th>\n",
       "      <th>JetAirways</th>\n",
       "    </tr>\n",
       "  </thead>\n",
       "  <tbody>\n",
       "    <tr>\n",
       "      <th>309</th>\n",
       "      <td>02-03-2020</td>\n",
       "      <td>729</td>\n",
       "      <td>120</td>\n",
       "      <td>469</td>\n",
       "      <td>658</td>\n",
       "      <td>33</td>\n",
       "      <td>23110</td>\n",
       "      <td>401</td>\n",
       "      <td>146</td>\n",
       "      <td>3</td>\n",
       "      <td>22</td>\n",
       "    </tr>\n",
       "    <tr>\n",
       "      <th>310</th>\n",
       "      <td>09-03-2020</td>\n",
       "      <td>634</td>\n",
       "      <td>114</td>\n",
       "      <td>427</td>\n",
       "      <td>569</td>\n",
       "      <td>30</td>\n",
       "      <td>21308</td>\n",
       "      <td>384</td>\n",
       "      <td>121</td>\n",
       "      <td>6</td>\n",
       "      <td>18</td>\n",
       "    </tr>\n",
       "    <tr>\n",
       "      <th>311</th>\n",
       "      <td>16-03-2020</td>\n",
       "      <td>577</td>\n",
       "      <td>90</td>\n",
       "      <td>321</td>\n",
       "      <td>428</td>\n",
       "      <td>27</td>\n",
       "      <td>18904</td>\n",
       "      <td>365</td>\n",
       "      <td>105</td>\n",
       "      <td>3</td>\n",
       "      <td>16</td>\n",
       "    </tr>\n",
       "    <tr>\n",
       "      <th>312</th>\n",
       "      <td>23-03-2020</td>\n",
       "      <td>644</td>\n",
       "      <td>75</td>\n",
       "      <td>293</td>\n",
       "      <td>360</td>\n",
       "      <td>21</td>\n",
       "      <td>17666</td>\n",
       "      <td>338</td>\n",
       "      <td>89</td>\n",
       "      <td>3</td>\n",
       "      <td>14</td>\n",
       "    </tr>\n",
       "    <tr>\n",
       "      <th>313</th>\n",
       "      <td>30-03-2020</td>\n",
       "      <td>633</td>\n",
       "      <td>75</td>\n",
       "      <td>284</td>\n",
       "      <td>379</td>\n",
       "      <td>23</td>\n",
       "      <td>17546</td>\n",
       "      <td>352</td>\n",
       "      <td>82</td>\n",
       "      <td>3</td>\n",
       "      <td>14</td>\n",
       "    </tr>\n",
       "  </tbody>\n",
       "</table>\n",
       "</div>"
      ],
      "text/plain": [
       "           Date  Infosys  IndianHotel  Mahindra&Mahindra  AxisBank  SAIL  \\\n",
       "309  02-03-2020      729          120                469       658    33   \n",
       "310  09-03-2020      634          114                427       569    30   \n",
       "311  16-03-2020      577           90                321       428    27   \n",
       "312  23-03-2020      644           75                293       360    21   \n",
       "313  30-03-2020      633           75                284       379    23   \n",
       "\n",
       "     ShreeCement  SunPharma  JindalSteel  IdeaVodafone  JetAirways  \n",
       "309        23110        401          146             3          22  \n",
       "310        21308        384          121             6          18  \n",
       "311        18904        365          105             3          16  \n",
       "312        17666        338           89             3          14  \n",
       "313        17546        352           82             3          14  "
      ]
     },
     "execution_count": 62,
     "metadata": {},
     "output_type": "execute_result"
    }
   ],
   "source": [
    "MRD.tail()"
   ]
  },
  {
   "cell_type": "code",
   "execution_count": 63,
   "id": "222311c0",
   "metadata": {},
   "outputs": [
    {
     "data": {
      "text/plain": [
       "array(['31-03-2014', '07-04-2014', '14-04-2014', '21-04-2014',\n",
       "       '28-04-2014', '05-05-2014', '12-05-2014', '19-05-2014',\n",
       "       '26-05-2014', '02-06-2014', '09-06-2014', '16-06-2014',\n",
       "       '23-06-2014', '30-06-2014', '07-07-2014', '14-07-2014',\n",
       "       '21-07-2014', '28-07-2014', '04-08-2014', '11-08-2014',\n",
       "       '18-08-2014', '25-08-2014', '01-09-2014', '08-09-2014',\n",
       "       '15-09-2014', '22-09-2014', '29-09-2014', '06-10-2014',\n",
       "       '13-10-2014', '20-10-2014', '27-10-2014', '03-11-2014',\n",
       "       '10-11-2014', '17-11-2014', '24-11-2014', '01-12-2014',\n",
       "       '08-12-2014', '15-12-2014', '22-12-2014', '29-12-2014',\n",
       "       '05-01-2015', '12-01-2015', '19-01-2015', '26-01-2015',\n",
       "       '02-02-2015', '09-02-2015', '16-02-2015', '23-02-2015',\n",
       "       '02-03-2015', '09-03-2015', '16-03-2015', '23-03-2015',\n",
       "       '30-03-2015', '06-04-2015', '13-04-2015', '20-04-2015',\n",
       "       '27-04-2015', '04-05-2015', '11-05-2015', '18-05-2015',\n",
       "       '25-05-2015', '01-06-2015', '08-06-2015', '15-06-2015',\n",
       "       '22-06-2015', '29-06-2015', '06-07-2015', '13-07-2015',\n",
       "       '20-07-2015', '27-07-2015', '03-08-2015', '10-08-2015',\n",
       "       '17-08-2015', '24-08-2015', '31-08-2015', '07-09-2015',\n",
       "       '14-09-2015', '21-09-2015', '28-09-2015', '05-10-2015',\n",
       "       '12-10-2015', '19-10-2015', '26-10-2015', '02-11-2015',\n",
       "       '09-11-2015', '16-11-2015', '23-11-2015', '30-11-2015',\n",
       "       '07-12-2015', '14-12-2015', '21-12-2015', '28-12-2015',\n",
       "       '04-01-2016', '11-01-2016', '18-01-2016', '25-01-2016',\n",
       "       '01-02-2016', '08-02-2016', '15-02-2016', '22-02-2016',\n",
       "       '29-02-2016', '07-03-2016', '14-03-2016', '21-03-2016',\n",
       "       '28-03-2016', '04-04-2016', '11-04-2016', '18-04-2016',\n",
       "       '25-04-2016', '02-05-2016', '09-05-2016', '16-05-2016',\n",
       "       '23-05-2016', '30-05-2016', '06-06-2016', '13-06-2016',\n",
       "       '20-06-2016', '27-06-2016', '04-07-2016', '11-07-2016',\n",
       "       '18-07-2016', '25-07-2016', '01-08-2016', '08-08-2016',\n",
       "       '15-08-2016', '22-08-2016', '29-08-2016', '05-09-2016',\n",
       "       '12-09-2016', '19-09-2016', '26-09-2016', '03-10-2016',\n",
       "       '10-10-2016', '17-10-2016', '24-10-2016', '31-10-2016',\n",
       "       '07-11-2016', '14-11-2016', '21-11-2016', '28-11-2016',\n",
       "       '05-12-2016', '12-12-2016', '19-12-2016', '26-12-2016',\n",
       "       '02-01-2017', '09-01-2017', '16-01-2017', '23-01-2017',\n",
       "       '30-01-2017', '06-02-2017', '13-02-2017', '20-02-2017',\n",
       "       '27-02-2017', '06-03-2017', '13-03-2017', '20-03-2017',\n",
       "       '27-03-2017', '03-04-2017', '10-04-2017', '17-04-2017',\n",
       "       '24-04-2017', '01-05-2017', '08-05-2017', '15-05-2017',\n",
       "       '22-05-2017', '29-05-2017', '05-06-2017', '12-06-2017',\n",
       "       '19-06-2017', '26-06-2017', '03-07-2017', '10-07-2017',\n",
       "       '17-07-2017', '24-07-2017', '31-07-2017', '07-08-2017',\n",
       "       '14-08-2017', '21-08-2017', '28-08-2017', '04-09-2017',\n",
       "       '11-09-2017', '18-09-2017', '25-09-2017', '02-10-2017',\n",
       "       '09-10-2017', '16-10-2017', '23-10-2017', '30-10-2017',\n",
       "       '06-11-2017', '13-11-2017', '20-11-2017', '27-11-2017',\n",
       "       '04-12-2017', '11-12-2017', '18-12-2017', '25-12-2017',\n",
       "       '01-01-2018', '08-01-2018', '15-01-2018', '22-01-2018',\n",
       "       '29-01-2018', '05-02-2018', '12-02-2018', '19-02-2018',\n",
       "       '26-02-2018', '05-03-2018', '12-03-2018', '19-03-2018',\n",
       "       '26-03-2018', '02-04-2018', '09-04-2018', '16-04-2018',\n",
       "       '23-04-2018', '30-04-2018', '07-05-2018', '14-05-2018',\n",
       "       '21-05-2018', '28-05-2018', '04-06-2018', '11-06-2018',\n",
       "       '18-06-2018', '25-06-2018', '02-07-2018', '09-07-2018',\n",
       "       '16-07-2018', '23-07-2018', '30-07-2018', '06-08-2018',\n",
       "       '13-08-2018', '20-08-2018', '27-08-2018', '03-09-2018',\n",
       "       '10-09-2018', '17-09-2018', '24-09-2018', '01-10-2018',\n",
       "       '08-10-2018', '15-10-2018', '22-10-2018', '29-10-2018',\n",
       "       '05-11-2018', '12-11-2018', '19-11-2018', '26-11-2018',\n",
       "       '03-12-2018', '10-12-2018', '17-12-2018', '24-12-2018',\n",
       "       '31-12-2018', '07-01-2019', '14-01-2019', '21-01-2019',\n",
       "       '28-01-2019', '04-02-2019', '11-02-2019', '18-02-2019',\n",
       "       '25-02-2019', '04-03-2019', '11-03-2019', '18-03-2019',\n",
       "       '25-03-2019', '01-04-2019', '08-04-2019', '15-04-2019',\n",
       "       '22-04-2019', '29-04-2019', '06-05-2019', '13-05-2019',\n",
       "       '20-05-2019', '27-05-2019', '03-06-2019', '10-06-2019',\n",
       "       '17-06-2019', '24-06-2019', '01-07-2019', '08-07-2019',\n",
       "       '15-07-2019', '22-07-2019', '29-07-2019', '05-08-2019',\n",
       "       '12-08-2019', '19-08-2019', '26-08-2019', '02-09-2019',\n",
       "       '09-09-2019', '16-09-2019', '23-09-2019', '30-09-2019',\n",
       "       '07-10-2019', '14-10-2019', '21-10-2019', '28-10-2019',\n",
       "       '04-11-2019', '11-11-2019', '18-11-2019', '25-11-2019',\n",
       "       '02-12-2019', '09-12-2019', '16-12-2019', '23-12-2019',\n",
       "       '30-12-2019', '06-01-2020', '13-01-2020', '20-01-2020',\n",
       "       '27-01-2020', '03-02-2020', '10-02-2020', '17-02-2020',\n",
       "       '24-02-2020', '02-03-2020', '09-03-2020', '16-03-2020',\n",
       "       '23-03-2020', '30-03-2020'], dtype=object)"
      ]
     },
     "execution_count": 63,
     "metadata": {},
     "output_type": "execute_result"
    }
   ],
   "source": [
    "MRD['Date'].unique()"
   ]
  },
  {
   "cell_type": "code",
   "execution_count": 64,
   "id": "23c13d1c",
   "metadata": {},
   "outputs": [
    {
     "name": "stdout",
     "output_type": "stream",
     "text": [
      "The number of rows (observations) is 314 \n",
      "The number of columns (variables) is 11\n"
     ]
    }
   ],
   "source": [
    "#To know the number of rows and columns\n",
    "print('The number of rows (observations) is',MRD.shape[0],'\\n''The number of columns (variables) is',MRD.shape[1])"
   ]
  },
  {
   "cell_type": "code",
   "execution_count": 65,
   "id": "b1930206",
   "metadata": {},
   "outputs": [
    {
     "name": "stdout",
     "output_type": "stream",
     "text": [
      "<class 'pandas.core.frame.DataFrame'>\n",
      "RangeIndex: 314 entries, 0 to 313\n",
      "Data columns (total 11 columns):\n",
      " #   Column             Non-Null Count  Dtype \n",
      "---  ------             --------------  ----- \n",
      " 0   Date               314 non-null    object\n",
      " 1   Infosys            314 non-null    int64 \n",
      " 2   IndianHotel        314 non-null    int64 \n",
      " 3   Mahindra&Mahindra  314 non-null    int64 \n",
      " 4   AxisBank           314 non-null    int64 \n",
      " 5   SAIL               314 non-null    int64 \n",
      " 6   ShreeCement        314 non-null    int64 \n",
      " 7   SunPharma          314 non-null    int64 \n",
      " 8   JindalSteel        314 non-null    int64 \n",
      " 9   IdeaVodafone       314 non-null    int64 \n",
      " 10  JetAirways         314 non-null    int64 \n",
      "dtypes: int64(10), object(1)\n",
      "memory usage: 27.1+ KB\n"
     ]
    }
   ],
   "source": [
    "MRD.info()"
   ]
  },
  {
   "cell_type": "code",
   "execution_count": 66,
   "id": "f10dcb51",
   "metadata": {},
   "outputs": [],
   "source": [
    "#PART B: Draw Stock Price Graph(Stock Price vs Time) for any 2 given stocks with inference"
   ]
  },
  {
   "cell_type": "code",
   "execution_count": 67,
   "id": "9299e3c9",
   "metadata": {},
   "outputs": [],
   "source": [
    "#Changing the format of 'Date' column from object to Timeframe\n",
    "MRD['Date'] = [pd.to_datetime(d) for d in MRD['Date']]"
   ]
  },
  {
   "cell_type": "code",
   "execution_count": 69,
   "id": "89322ecf",
   "metadata": {},
   "outputs": [
    {
     "data": {
      "text/plain": [
       "Text(0.5, 1.0, 'MRD Infosys Stock Price 1/1/14 - 10/2/20')"
      ]
     },
     "execution_count": 69,
     "metadata": {},
     "output_type": "execute_result"
    },
    {
     "data": {
      "image/png": "[encoded data removed]",
      "text/plain": [
       "<Figure size 720x360 with 1 Axes>"
      ]
     },
     "metadata": {
      "needs_background": "light"
     },
     "output_type": "display_data"
    }
   ],
   "source": [
    "plt.figure(figsize=(10,5))\n",
    "plt.scatter(MRD['Date'], MRD['Infosys'], edgecolors='r')\n",
    "#plt.plot(stock_prices.index, MRD['Infosys'])\n",
    "plt.xlabel(\"Date\")\n",
    "plt.ylabel(\"$ price\")\n",
    "plt.title(\"MRD Infosys Stock Price 1/1/14 - 10/2/20\")"
   ]
  },
  {
   "cell_type": "code",
   "execution_count": 70,
   "id": "196147d5",
   "metadata": {},
   "outputs": [
    {
     "data": {
      "text/plain": [
       "Text(0.5, 1.0, 'MRD ShreeCement Stock Price 1/1/14 - 10/2/20')"
      ]
     },
     "execution_count": 70,
     "metadata": {},
     "output_type": "execute_result"
    },
    {
     "data": {
      "image/png": "[encoded data removed]",
      "text/plain": [
       "<Figure size 720x360 with 1 Axes>"
      ]
     },
     "metadata": {
      "needs_background": "light"
     },
     "output_type": "display_data"
    }
   ],
   "source": [
    "plt.figure(figsize=(10,5))\n",
    "plt.scatter(MRD['Date'], MRD['ShreeCement'], edgecolors='r')\n",
    "#plt.plot(stock_prices.index, MRD['Infosys'])\n",
    "plt.xlabel(\"Date\")\n",
    "plt.ylabel(\"$ price\")\n",
    "plt.title(\"MRD ShreeCement Stock Price 1/1/14 - 10/2/20\")"
   ]
  },
  {
   "cell_type": "markdown",
   "id": "74d52d9c",
   "metadata": {},
   "source": [
    "The stock price for infosys has started from 300 in the 2014 and gone for a max of 800 in 2020/2021.\n",
    "We could see a steady increase in the stock price starting from 2014 till mid of 2016.\n",
    "After that there is slight decline in the price amount from end of 2016 till 2018.\n",
    "The price has a low of close to 400 and then recovered steadly to reach the max level."
   ]
  },
  {
   "cell_type": "code",
   "execution_count": 71,
   "id": "34b92ca7",
   "metadata": {},
   "outputs": [
    {
     "data": {
      "text/plain": [
       "Text(0.5, 1.0, 'MRD SAIL Stock Price 1/1/14 - 10/2/20')"
      ]
     },
     "execution_count": 71,
     "metadata": {},
     "output_type": "execute_result"
    },
    {
     "data": {
      "image/png": "[encoded data removed]",
      "text/plain": [
       "<Figure size 720x360 with 1 Axes>"
      ]
     },
     "metadata": {
      "needs_background": "light"
     },
     "output_type": "display_data"
    }
   ],
   "source": [
    "plt.figure(figsize=(10,5))\n",
    "plt.scatter(MRD['Date'], MRD['SAIL'], edgecolors='r')\n",
    "#plt.plot(stock_prices.index, MRD['Infosys'])\n",
    "plt.xlabel(\"Date\")\n",
    "plt.ylabel(\"$ price\")\n",
    "plt.title(\"MRD SAIL Stock Price 1/1/14 - 10/2/20\")"
   ]
  },
  {
   "cell_type": "markdown",
   "id": "3f4704ae",
   "metadata": {},
   "source": [
    "This is a completely different scenario where the stock price for SAIL at 2014 was at it peak of 100.\n",
    "Then the downward graph shows that the stock price has got to 40 by 2016(approx).\n",
    "After a steady increase or recovery again from mid of 2018 the price of each stock has gone to complete low of 20"
   ]
  },
  {
   "cell_type": "code",
   "execution_count": 72,
   "id": "3f363eae",
   "metadata": {},
   "outputs": [],
   "source": [
    "#PART B: Calculate Returns for all stocks with inference"
   ]
  },
  {
   "cell_type": "code",
   "execution_count": 73,
   "id": "19e0f7ba",
   "metadata": {},
   "outputs": [],
   "source": [
    "#Using Log method for calculating the returns"
   ]
  },
  {
   "cell_type": "code",
   "execution_count": 74,
   "id": "ffdcd3d9",
   "metadata": {},
   "outputs": [],
   "source": [
    "MRD_returns = np.log(MRD.drop(['Date','Date'],axis=1)).diff(axis = 0, periods = 1)"
   ]
  },
  {
   "cell_type": "code",
   "execution_count": 75,
   "id": "0a58ceb5",
   "metadata": {},
   "outputs": [
    {
     "data": {
      "text/plain": [
       "(314, 10)"
      ]
     },
     "execution_count": 75,
     "metadata": {},
     "output_type": "execute_result"
    }
   ],
   "source": [
    "MRD_returns.shape"
   ]
  },
  {
   "cell_type": "code",
   "execution_count": 76,
   "id": "046dfda1",
   "metadata": {},
   "outputs": [
    {
     "data": {
      "text/html": [
       "<div>\n",
       "<style scoped>\n",
       "    .dataframe tbody tr th:only-of-type {\n",
       "        vertical-align: middle;\n",
       "    }\n",
       "\n",
       "    .dataframe tbody tr th {\n",
       "        vertical-align: top;\n",
       "    }\n",
       "\n",
       "    .dataframe thead th {\n",
       "        text-align: right;\n",
       "    }\n",
       "</style>\n",
       "<table border=\"1\" class=\"dataframe\">\n",
       "  <thead>\n",
       "    <tr style=\"text-align: right;\">\n",
       "      <th></th>\n",
       "      <th>Infosys</th>\n",
       "      <th>IndianHotel</th>\n",
       "      <th>Mahindra&amp;Mahindra</th>\n",
       "      <th>AxisBank</th>\n",
       "      <th>SAIL</th>\n",
       "      <th>ShreeCement</th>\n",
       "      <th>SunPharma</th>\n",
       "      <th>JindalSteel</th>\n",
       "      <th>IdeaVodafone</th>\n",
       "      <th>JetAirways</th>\n",
       "    </tr>\n",
       "  </thead>\n",
       "  <tbody>\n",
       "    <tr>\n",
       "      <th>0</th>\n",
       "      <td>NaN</td>\n",
       "      <td>NaN</td>\n",
       "      <td>NaN</td>\n",
       "      <td>NaN</td>\n",
       "      <td>NaN</td>\n",
       "      <td>NaN</td>\n",
       "      <td>NaN</td>\n",
       "      <td>NaN</td>\n",
       "      <td>NaN</td>\n",
       "      <td>NaN</td>\n",
       "    </tr>\n",
       "    <tr>\n",
       "      <th>1</th>\n",
       "      <td>-0.026873</td>\n",
       "      <td>-0.014599</td>\n",
       "      <td>0.006572</td>\n",
       "      <td>0.048247</td>\n",
       "      <td>0.028988</td>\n",
       "      <td>0.032831</td>\n",
       "      <td>0.094491</td>\n",
       "      <td>-0.065882</td>\n",
       "      <td>0.011976</td>\n",
       "      <td>0.086112</td>\n",
       "    </tr>\n",
       "    <tr>\n",
       "      <th>2</th>\n",
       "      <td>-0.011742</td>\n",
       "      <td>0.000000</td>\n",
       "      <td>-0.008772</td>\n",
       "      <td>-0.021979</td>\n",
       "      <td>-0.028988</td>\n",
       "      <td>-0.013888</td>\n",
       "      <td>-0.004930</td>\n",
       "      <td>0.000000</td>\n",
       "      <td>-0.011976</td>\n",
       "      <td>-0.078943</td>\n",
       "    </tr>\n",
       "    <tr>\n",
       "      <th>3</th>\n",
       "      <td>-0.003945</td>\n",
       "      <td>0.000000</td>\n",
       "      <td>0.072218</td>\n",
       "      <td>0.047025</td>\n",
       "      <td>0.000000</td>\n",
       "      <td>0.007583</td>\n",
       "      <td>-0.004955</td>\n",
       "      <td>-0.018084</td>\n",
       "      <td>0.000000</td>\n",
       "      <td>0.007117</td>\n",
       "    </tr>\n",
       "    <tr>\n",
       "      <th>4</th>\n",
       "      <td>0.011788</td>\n",
       "      <td>-0.045120</td>\n",
       "      <td>-0.012371</td>\n",
       "      <td>-0.003540</td>\n",
       "      <td>-0.076373</td>\n",
       "      <td>-0.019515</td>\n",
       "      <td>0.011523</td>\n",
       "      <td>-0.140857</td>\n",
       "      <td>-0.049393</td>\n",
       "      <td>-0.148846</td>\n",
       "    </tr>\n",
       "    <tr>\n",
       "      <th>...</th>\n",
       "      <td>...</td>\n",
       "      <td>...</td>\n",
       "      <td>...</td>\n",
       "      <td>...</td>\n",
       "      <td>...</td>\n",
       "      <td>...</td>\n",
       "      <td>...</td>\n",
       "      <td>...</td>\n",
       "      <td>...</td>\n",
       "      <td>...</td>\n",
       "    </tr>\n",
       "    <tr>\n",
       "      <th>309</th>\n",
       "      <td>0.009649</td>\n",
       "      <td>-0.110348</td>\n",
       "      <td>0.030305</td>\n",
       "      <td>-0.057580</td>\n",
       "      <td>-0.087011</td>\n",
       "      <td>0.023688</td>\n",
       "      <td>0.072383</td>\n",
       "      <td>-0.053346</td>\n",
       "      <td>-0.287682</td>\n",
       "      <td>-0.127833</td>\n",
       "    </tr>\n",
       "    <tr>\n",
       "      <th>310</th>\n",
       "      <td>-0.139625</td>\n",
       "      <td>-0.051293</td>\n",
       "      <td>-0.093819</td>\n",
       "      <td>-0.145324</td>\n",
       "      <td>-0.095310</td>\n",
       "      <td>-0.081183</td>\n",
       "      <td>-0.043319</td>\n",
       "      <td>-0.187816</td>\n",
       "      <td>0.693147</td>\n",
       "      <td>-0.200671</td>\n",
       "    </tr>\n",
       "    <tr>\n",
       "      <th>311</th>\n",
       "      <td>-0.094207</td>\n",
       "      <td>-0.236389</td>\n",
       "      <td>-0.285343</td>\n",
       "      <td>-0.284757</td>\n",
       "      <td>-0.105361</td>\n",
       "      <td>-0.119709</td>\n",
       "      <td>-0.050745</td>\n",
       "      <td>-0.141830</td>\n",
       "      <td>-0.693147</td>\n",
       "      <td>-0.117783</td>\n",
       "    </tr>\n",
       "    <tr>\n",
       "      <th>312</th>\n",
       "      <td>0.109856</td>\n",
       "      <td>-0.182322</td>\n",
       "      <td>-0.091269</td>\n",
       "      <td>-0.173019</td>\n",
       "      <td>-0.251314</td>\n",
       "      <td>-0.067732</td>\n",
       "      <td>-0.076851</td>\n",
       "      <td>-0.165324</td>\n",
       "      <td>0.000000</td>\n",
       "      <td>-0.133531</td>\n",
       "    </tr>\n",
       "    <tr>\n",
       "      <th>313</th>\n",
       "      <td>-0.017228</td>\n",
       "      <td>0.000000</td>\n",
       "      <td>-0.031198</td>\n",
       "      <td>0.051432</td>\n",
       "      <td>0.090972</td>\n",
       "      <td>-0.006816</td>\n",
       "      <td>0.040585</td>\n",
       "      <td>-0.081917</td>\n",
       "      <td>0.000000</td>\n",
       "      <td>0.000000</td>\n",
       "    </tr>\n",
       "  </tbody>\n",
       "</table>\n",
       "<p>314 rows × 10 columns</p>\n",
       "</div>"
      ],
      "text/plain": [
       "      Infosys  IndianHotel  Mahindra&Mahindra  AxisBank      SAIL  \\\n",
       "0         NaN          NaN                NaN       NaN       NaN   \n",
       "1   -0.026873    -0.014599           0.006572  0.048247  0.028988   \n",
       "2   -0.011742     0.000000          -0.008772 -0.021979 -0.028988   \n",
       "3   -0.003945     0.000000           0.072218  0.047025  0.000000   \n",
       "4    0.011788    -0.045120          -0.012371 -0.003540 -0.076373   \n",
       "..        ...          ...                ...       ...       ...   \n",
       "309  0.009649    -0.110348           0.030305 -0.057580 -0.087011   \n",
       "310 -0.139625    -0.051293          -0.093819 -0.145324 -0.095310   \n",
       "311 -0.094207    -0.236389          -0.285343 -0.284757 -0.105361   \n",
       "312  0.109856    -0.182322          -0.091269 -0.173019 -0.251314   \n",
       "313 -0.017228     0.000000          -0.031198  0.051432  0.090972   \n",
       "\n",
       "     ShreeCement  SunPharma  JindalSteel  IdeaVodafone  JetAirways  \n",
       "0            NaN        NaN          NaN           NaN         NaN  \n",
       "1       0.032831   0.094491    -0.065882      0.011976    0.086112  \n",
       "2      -0.013888  -0.004930     0.000000     -0.011976   -0.078943  \n",
       "3       0.007583  -0.004955    -0.018084      0.000000    0.007117  \n",
       "4      -0.019515   0.011523    -0.140857     -0.049393   -0.148846  \n",
       "..           ...        ...          ...           ...         ...  \n",
       "309     0.023688   0.072383    -0.053346     -0.287682   -0.127833  \n",
       "310    -0.081183  -0.043319    -0.187816      0.693147   -0.200671  \n",
       "311    -0.119709  -0.050745    -0.141830     -0.693147   -0.117783  \n",
       "312    -0.067732  -0.076851    -0.165324      0.000000   -0.133531  \n",
       "313    -0.006816   0.040585    -0.081917      0.000000    0.000000  \n",
       "\n",
       "[314 rows x 10 columns]"
      ]
     },
     "execution_count": 76,
     "metadata": {},
     "output_type": "execute_result"
    }
   ],
   "source": [
    "MRD_returns"
   ]
  },
  {
   "cell_type": "code",
   "execution_count": 77,
   "id": "dab95594",
   "metadata": {},
   "outputs": [],
   "source": [
    "#we can see that first row values are NaN as it does not have a previous value.\n",
    "#Following that we have got the returns for all other stocks."
   ]
  },
  {
   "cell_type": "code",
   "execution_count": 78,
   "id": "bb14faf9",
   "metadata": {},
   "outputs": [],
   "source": [
    "#PART B: Calculate Stock Means and Standard Deviation for all stocks with inference"
   ]
  },
  {
   "cell_type": "code",
   "execution_count": 79,
   "id": "32a6153c",
   "metadata": {},
   "outputs": [],
   "source": [
    "### We now look at Means & Standard Deviations of these returns\n",
    "\n",
    "#- Stock Means: Average returns that the stock is making on a week to week basis\n",
    "#- Stock Standard Deviation : It is the risk involved in the returns of each stock"
   ]
  },
  {
   "cell_type": "code",
   "execution_count": 80,
   "id": "884fbfaf",
   "metadata": {},
   "outputs": [
    {
     "data": {
      "text/plain": [
       "Infosys              0.002794\n",
       "IndianHotel          0.000266\n",
       "Mahindra&Mahindra   -0.001506\n",
       "AxisBank             0.001167\n",
       "SAIL                -0.003463\n",
       "ShreeCement          0.003681\n",
       "SunPharma           -0.001455\n",
       "JindalSteel         -0.004123\n",
       "IdeaVodafone        -0.010608\n",
       "JetAirways          -0.009548\n",
       "dtype: float64"
      ]
     },
     "execution_count": 80,
     "metadata": {},
     "output_type": "execute_result"
    }
   ],
   "source": [
    "#Calculating the mean/Average Returns\n",
    "MRD_means = MRD_returns.mean(axis = 0)\n",
    "MRD_means"
   ]
  },
  {
   "cell_type": "code",
   "execution_count": 81,
   "id": "629ad6fa",
   "metadata": {},
   "outputs": [
    {
     "data": {
      "text/plain": [
       "Infosys              0.035070\n",
       "IndianHotel          0.047131\n",
       "Mahindra&Mahindra    0.040169\n",
       "AxisBank             0.045828\n",
       "SAIL                 0.062188\n",
       "ShreeCement          0.039917\n",
       "SunPharma            0.045033\n",
       "JindalSteel          0.075108\n",
       "IdeaVodafone         0.104315\n",
       "JetAirways           0.097972\n",
       "dtype: float64"
      ]
     },
     "execution_count": 81,
     "metadata": {},
     "output_type": "execute_result"
    }
   ],
   "source": [
    "#Calculating the SD/volatality\n",
    "MRD_sd = MRD_returns.std(axis = 0)\n",
    "MRD_sd"
   ]
  },
  {
   "cell_type": "code",
   "execution_count": 82,
   "id": "36e6917b",
   "metadata": {},
   "outputs": [
    {
     "data": {
      "text/html": [
       "<div>\n",
       "<style scoped>\n",
       "    .dataframe tbody tr th:only-of-type {\n",
       "        vertical-align: middle;\n",
       "    }\n",
       "\n",
       "    .dataframe tbody tr th {\n",
       "        vertical-align: top;\n",
       "    }\n",
       "\n",
       "    .dataframe thead th {\n",
       "        text-align: right;\n",
       "    }\n",
       "</style>\n",
       "<table border=\"1\" class=\"dataframe\">\n",
       "  <thead>\n",
       "    <tr style=\"text-align: right;\">\n",
       "      <th></th>\n",
       "      <th>Average</th>\n",
       "      <th>Volatility</th>\n",
       "    </tr>\n",
       "  </thead>\n",
       "  <tbody>\n",
       "    <tr>\n",
       "      <th>Infosys</th>\n",
       "      <td>0.002794</td>\n",
       "      <td>0.035070</td>\n",
       "    </tr>\n",
       "    <tr>\n",
       "      <th>IndianHotel</th>\n",
       "      <td>0.000266</td>\n",
       "      <td>0.047131</td>\n",
       "    </tr>\n",
       "    <tr>\n",
       "      <th>Mahindra&amp;Mahindra</th>\n",
       "      <td>-0.001506</td>\n",
       "      <td>0.040169</td>\n",
       "    </tr>\n",
       "    <tr>\n",
       "      <th>AxisBank</th>\n",
       "      <td>0.001167</td>\n",
       "      <td>0.045828</td>\n",
       "    </tr>\n",
       "    <tr>\n",
       "      <th>SAIL</th>\n",
       "      <td>-0.003463</td>\n",
       "      <td>0.062188</td>\n",
       "    </tr>\n",
       "    <tr>\n",
       "      <th>ShreeCement</th>\n",
       "      <td>0.003681</td>\n",
       "      <td>0.039917</td>\n",
       "    </tr>\n",
       "    <tr>\n",
       "      <th>SunPharma</th>\n",
       "      <td>-0.001455</td>\n",
       "      <td>0.045033</td>\n",
       "    </tr>\n",
       "    <tr>\n",
       "      <th>JindalSteel</th>\n",
       "      <td>-0.004123</td>\n",
       "      <td>0.075108</td>\n",
       "    </tr>\n",
       "    <tr>\n",
       "      <th>IdeaVodafone</th>\n",
       "      <td>-0.010608</td>\n",
       "      <td>0.104315</td>\n",
       "    </tr>\n",
       "    <tr>\n",
       "      <th>JetAirways</th>\n",
       "      <td>-0.009548</td>\n",
       "      <td>0.097972</td>\n",
       "    </tr>\n",
       "  </tbody>\n",
       "</table>\n",
       "</div>"
      ],
      "text/plain": [
       "                    Average  Volatility\n",
       "Infosys            0.002794    0.035070\n",
       "IndianHotel        0.000266    0.047131\n",
       "Mahindra&Mahindra -0.001506    0.040169\n",
       "AxisBank           0.001167    0.045828\n",
       "SAIL              -0.003463    0.062188\n",
       "ShreeCement        0.003681    0.039917\n",
       "SunPharma         -0.001455    0.045033\n",
       "JindalSteel       -0.004123    0.075108\n",
       "IdeaVodafone      -0.010608    0.104315\n",
       "JetAirways        -0.009548    0.097972"
      ]
     },
     "execution_count": 82,
     "metadata": {},
     "output_type": "execute_result"
    }
   ],
   "source": [
    "#Creating a dataframe for AverageReturns and Standard deviation\n",
    "df = pd.DataFrame({'Average':MRD_means, 'Volatility': MRD_sd})\n",
    "df"
   ]
  },
  {
   "cell_type": "markdown",
   "id": "e2f60e8a",
   "metadata": {},
   "source": [
    "So in this calculation of mean and standard deviations\n",
    "Mean talks about the average returns\n",
    "Standard deviation talk about the risk/volatility involved in the average returns of the stock amount.\n",
    "So from the above data frame we can conclude that.\n",
    "1) Mahindra&Mahindra, SAIL, SunPharma, JindalSteel, IdeaVodafone, JetAirways all of these stock show negative returns.\n",
    "So it is a wise decision not to invest in this stock without even considering their Volatility.\n",
    "Stocks with higher return and lower volatility should be considered so in this case we need to think of stocks such as \n",
    "'ShreeCement', 'Infosys'\n",
    "To conclude by using simple mean and standard deviation we can make some wise choises by predicting the right stocks."
   ]
  },
  {
   "cell_type": "markdown",
   "id": "a1845f27",
   "metadata": {},
   "source": [
    "PART B: Draw a plot of Stock Means vs Standard Deviation and state your inference"
   ]
  },
  {
   "cell_type": "code",
   "execution_count": 83,
   "id": "01bb41f0",
   "metadata": {},
   "outputs": [
    {
     "data": {
      "image/png": "[encoded data removed]",
      "text/plain": [
       "<Figure size 432x288 with 1 Axes>"
      ]
     },
     "metadata": {
      "needs_background": "light"
     },
     "output_type": "display_data"
    }
   ],
   "source": [
    "plot = sns.scatterplot(df['Volatility'], df['Average'])\n",
    "plt.show()"
   ]
  },
  {
   "cell_type": "markdown",
   "id": "97c0ffdf",
   "metadata": {},
   "source": [
    "There are stocks which gives high returns on the top left cornor of the plot which also has very low volatility.\n",
    "On the Right cornor there are stocks which give low returns and high volatility.\n",
    "There are two stocks in between which needs to be carefully analaysed as in this case the stocks might be in earge of moving up which give high returns or might have been in decline where most of customers have already sold their stocks which mean its volatility is high and returns will be low."
   ]
  },
  {
   "cell_type": "code",
   "execution_count": 84,
   "id": "dd7d453a",
   "metadata": {},
   "outputs": [],
   "source": [
    "#PART B: Conclusions and Recommendations"
   ]
  },
  {
   "cell_type": "markdown",
   "id": "7998701d",
   "metadata": {},
   "source": [
    "1) Initially we have drawn a plot for couple of stocks such as Infosys and SAIL for the last six years of given data set, from which we came to a conclusion that the price amount of Infosys stocks were moving on the upward direction but where as for SAIl it has gone down hence by this scenario one cannot predict that the Infosys stocks yeild higher returns compared to that of SAIL.\n",
    "2) Hean we have derived Average returns and Standard Deviation for all the stocks and stored in a data frame format.\n",
    "3) From this data frame we could suggest our client or one get an idea of how much the returns will be each stock and its volatility.\n",
    "4) Ideally higher returns and lower volatility is the prefered stock.\n",
    "5) In this perspective stocks such as 'ShreeCement', 'Infosys' has higher returns and lower volatility.\n",
    "6) Stocks like Mahindra&Mahindra, SAIL, SunPharma, JindalSteel, IdeaVodafone, JetAirways all of these stock show negative returns.\n",
    "8) Stocks such as IndianHotel and AxisBank give us positive returns but there volatility is high.\n",
    "7)To conclude by using simple mean and standard deviation we can make some wise choises by predicting the right stocks."
   ]
  },
  {
   "cell_type": "code",
   "execution_count": null,
   "id": "b5531fc6",
   "metadata": {},
   "outputs": [],
   "source": []
  }
 ],
 "metadata": {
  "kernelspec": {
   "display_name": "Python 3 (ipykernel)",
   "language": "python",
   "name": "python3"
  },
  "language_info": {
   "codemirror_mode": {
    "name": "ipython",
    "version": 3
   },
   "file_extension": ".py",
   "mimetype": "text/x-python",
   "name": "python",
   "nbconvert_exporter": "python",
   "pygments_lexer": "ipython3",
   "version": "3.9.12"
  }
 },
 "nbformat": 4,
 "nbformat_minor": 5
}
